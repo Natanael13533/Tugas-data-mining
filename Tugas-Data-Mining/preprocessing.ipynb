{
  "nbformat": 4,
  "nbformat_minor": 0,
  "metadata": {
    "colab": {
      "provenance": []
    },
    "kernelspec": {
      "name": "python3",
      "display_name": "Python 3"
    },
    "language_info": {
      "name": "python"
    }
  },
  "cells": [
    {
      "cell_type": "code",
      "execution_count": null,
      "metadata": {
        "id": "m2zkTXkJ7IKS"
      },
      "outputs": [],
      "source": [
        "import numpy as np\n",
        "import matplotlib.pyplot as plt\n",
        "import pandas as pd"
      ]
    },
    {
      "cell_type": "code",
      "source": [
        "dataset = pd.read_csv(\"Balon.csv\")\n",
        "x = dataset.iloc[:, :-1].values\n",
        "y = dataset.iloc[:, -1].values"
      ],
      "metadata": {
        "id": "BK53w5oA7Kbt"
      },
      "execution_count": null,
      "outputs": []
    },
    {
      "cell_type": "code",
      "source": [
        "print(x)"
      ],
      "metadata": {
        "colab": {
          "base_uri": "https://localhost:8080/"
        },
        "id": "_4V7gS_-7WXG",
        "outputId": "56544535-9069-494b-ef9b-697708185114"
      },
      "execution_count": null,
      "outputs": [
        {
          "output_type": "stream",
          "name": "stdout",
          "text": [
            "[['YELLOW' 'SMALL' 'STRETCH' 'ADULT']\n",
            " ['YELLOW' 'SMALL' 'STRETCH' 'CHILD']\n",
            " ['YELLOW' 'SMALL' 'DIP' 'ADULT']\n",
            " ['YELLOW' 'SMALL' 'DIP' 'CHILD']\n",
            " ['YELLOW' 'SMALL' 'DIP' 'CHILD']\n",
            " ['PURPLE' 'LARGE' 'STRETCH' 'ADULT']\n",
            " ['PURPLE' 'LARGE' 'STRETCH' 'CHILD']\n",
            " ['PURPLE' 'SMALL' 'DIP' 'CHILD']\n",
            " ['PURPLE' 'SMALL' 'DIP' 'CHILD']\n",
            " ['PURPLE' 'SMALL' 'STRETCH' 'CHILD']]\n"
          ]
        }
      ]
    },
    {
      "cell_type": "code",
      "source": [
        "from sklearn.compose import ColumnTransformer\n",
        "from sklearn.preprocessing import LabelEncoder,OneHotEncoder\n",
        "ct = ColumnTransformer(transformers=[('encoder', OneHotEncoder(), [0])], remainder='passthrough')\n",
        "x = np.array(ct.fit_transform(x))"
      ],
      "metadata": {
        "id": "7PRHibD_7bSJ"
      },
      "execution_count": null,
      "outputs": []
    },
    {
      "cell_type": "code",
      "source": [
        "print(x)"
      ],
      "metadata": {
        "colab": {
          "base_uri": "https://localhost:8080/"
        },
        "id": "tsB0i0Yi7fVV",
        "outputId": "2eeeeee9-72ab-44e5-802f-bcc5424c4032"
      },
      "execution_count": null,
      "outputs": [
        {
          "output_type": "stream",
          "name": "stdout",
          "text": [
            "[[0.0 1.0 'SMALL' 'STRETCH' 'ADULT']\n",
            " [0.0 1.0 'SMALL' 'STRETCH' 'CHILD']\n",
            " [0.0 1.0 'SMALL' 'DIP' 'ADULT']\n",
            " [0.0 1.0 'SMALL' 'DIP' 'CHILD']\n",
            " [0.0 1.0 'SMALL' 'DIP' 'CHILD']\n",
            " [1.0 0.0 'LARGE' 'STRETCH' 'ADULT']\n",
            " [1.0 0.0 'LARGE' 'STRETCH' 'CHILD']\n",
            " [1.0 0.0 'SMALL' 'DIP' 'CHILD']\n",
            " [1.0 0.0 'SMALL' 'DIP' 'CHILD']\n",
            " [1.0 0.0 'SMALL' 'STRETCH' 'CHILD']]\n"
          ]
        }
      ]
    },
    {
      "cell_type": "code",
      "source": [
        "labelEncoder = LabelEncoder()\n",
        "x[:, 2] = labelEncoder.fit_transform(x[:, 2])\n",
        "x[:, 3] = labelEncoder.fit_transform(x[:, 3])\n",
        "x[:, 4] = labelEncoder.fit_transform(x[:, 4])"
      ],
      "metadata": {
        "id": "LX7boaJb7hzS"
      },
      "execution_count": null,
      "outputs": []
    },
    {
      "cell_type": "code",
      "source": [
        "print(x)"
      ],
      "metadata": {
        "colab": {
          "base_uri": "https://localhost:8080/"
        },
        "id": "69ETZv2J75MN",
        "outputId": "614cbf51-4c29-4b20-e826-74100cb58b70"
      },
      "execution_count": null,
      "outputs": [
        {
          "output_type": "stream",
          "name": "stdout",
          "text": [
            "[[0.0 1.0 1 1 0]\n",
            " [0.0 1.0 1 1 1]\n",
            " [0.0 1.0 1 0 0]\n",
            " [0.0 1.0 1 0 1]\n",
            " [0.0 1.0 1 0 1]\n",
            " [1.0 0.0 0 1 0]\n",
            " [1.0 0.0 0 1 1]\n",
            " [1.0 0.0 1 0 1]\n",
            " [1.0 0.0 1 0 1]\n",
            " [1.0 0.0 1 1 1]]\n"
          ]
        }
      ]
    },
    {
      "cell_type": "code",
      "source": [
        "y = labelEncoder.fit_transform(y)"
      ],
      "metadata": {
        "id": "5XwSeyAv9CCk"
      },
      "execution_count": null,
      "outputs": []
    },
    {
      "cell_type": "code",
      "source": [
        "print(y)"
      ],
      "metadata": {
        "colab": {
          "base_uri": "https://localhost:8080/"
        },
        "id": "ZtrsG2En9H7f",
        "outputId": "d2a23696-f9bc-4961-e4f0-a49042d9a9df"
      },
      "execution_count": null,
      "outputs": [
        {
          "output_type": "stream",
          "name": "stdout",
          "text": [
            "[1 1 1 0 0 1 1 0 0 1]\n"
          ]
        }
      ]
    },
    {
      "cell_type": "code",
      "source": [
        "from sklearn.model_selection import train_test_split\n",
        "x_train, x_test, y_train, y_test = train_test_split(x, y, test_size=0.2, random_state=1)"
      ],
      "metadata": {
        "id": "K8Ni41ML9bsy"
      },
      "execution_count": null,
      "outputs": []
    },
    {
      "cell_type": "code",
      "source": [
        "print(x_train)"
      ],
      "metadata": {
        "colab": {
          "base_uri": "https://localhost:8080/"
        },
        "id": "GV78WGE1-FxW",
        "outputId": "e1a49404-5fd5-4a77-cd59-111515f02e27"
      },
      "execution_count": null,
      "outputs": [
        {
          "output_type": "stream",
          "name": "stdout",
          "text": [
            "[[1.0 0.0 0 1 1]\n",
            " [0.0 1.0 1 0 1]\n",
            " [0.0 1.0 1 1 0]\n",
            " [0.0 1.0 1 0 1]\n",
            " [0.0 1.0 1 1 1]\n",
            " [1.0 0.0 1 0 1]\n",
            " [1.0 0.0 1 0 1]\n",
            " [1.0 0.0 0 1 0]]\n"
          ]
        }
      ]
    },
    {
      "cell_type": "code",
      "source": [
        "print(x_test)"
      ],
      "metadata": {
        "colab": {
          "base_uri": "https://localhost:8080/"
        },
        "id": "wYCt8NwQ-N_-",
        "outputId": "746fa616-6cc2-47b0-f5f6-e2d39a5f8de1"
      },
      "execution_count": null,
      "outputs": [
        {
          "output_type": "stream",
          "name": "stdout",
          "text": [
            "[[0.0 1.0 1 0 0]\n",
            " [1.0 0.0 1 1 1]]\n"
          ]
        }
      ]
    },
    {
      "cell_type": "code",
      "source": [
        "print(y_train)"
      ],
      "metadata": {
        "colab": {
          "base_uri": "https://localhost:8080/"
        },
        "id": "gMktjBba-RIX",
        "outputId": "fe7288d2-4ce0-475b-e9c7-5b42d2d5e9be"
      },
      "execution_count": null,
      "outputs": [
        {
          "output_type": "stream",
          "name": "stdout",
          "text": [
            "[1 0 1 0 1 0 0 1]\n"
          ]
        }
      ]
    },
    {
      "cell_type": "code",
      "source": [
        "print(y_test)"
      ],
      "metadata": {
        "colab": {
          "base_uri": "https://localhost:8080/"
        },
        "id": "9jQKt8jM-S5D",
        "outputId": "1dd960aa-e4ea-4903-db6d-b3fdaacd0115"
      },
      "execution_count": null,
      "outputs": [
        {
          "output_type": "stream",
          "name": "stdout",
          "text": [
            "[1 1]\n"
          ]
        }
      ]
    }
  ]
}