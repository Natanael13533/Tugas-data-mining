{
  "nbformat": 4,
  "nbformat_minor": 0,
  "metadata": {
    "colab": {
      "provenance": []
    },
    "kernelspec": {
      "name": "python3",
      "display_name": "Python 3"
    },
    "language_info": {
      "name": "python"
    }
  },
  "cells": [
    {
      "cell_type": "code",
      "execution_count": 1,
      "metadata": {
        "id": "XLzh-Z8OHSSy"
      },
      "outputs": [],
      "source": [
        "import numpy as np\n",
        "import matplotlib.pyplot as plt\n",
        "import pandas as pd"
      ]
    },
    {
      "cell_type": "code",
      "source": [
        "dataset = pd.read_csv('wine.csv')"
      ],
      "metadata": {
        "id": "kCmqJnyvH2wk"
      },
      "execution_count": 2,
      "outputs": []
    },
    {
      "cell_type": "code",
      "source": [
        "dataset"
      ],
      "metadata": {
        "colab": {
          "base_uri": "https://localhost:8080/",
          "height": 485
        },
        "id": "KgNx2UEVP2fV",
        "outputId": "5f6e2ec6-0ff6-46d5-aa0c-055c89261390"
      },
      "execution_count": 3,
      "outputs": [
        {
          "output_type": "execute_result",
          "data": {
            "text/plain": [
              "    Alcohol  Malic Acid   Ash  Alcalinity of Ash  Magnesium  Total Phenols  \\\n",
              "1     14.23        1.71  2.43               15.6        127           2.80   \n",
              "1     13.20        1.78  2.14               11.2        100           2.65   \n",
              "1     13.16        2.36  2.67               18.6        101           2.80   \n",
              "1     14.37        1.95  2.50               16.8        113           3.85   \n",
              "1     13.24        2.59  2.87               21.0        118           2.80   \n",
              "..      ...         ...   ...                ...        ...            ...   \n",
              "3     13.71        5.65  2.45               20.5         95           1.68   \n",
              "3     13.40        3.91  2.48               23.0        102           1.80   \n",
              "3     13.27        4.28  2.26               20.0        120           1.59   \n",
              "3     13.17        2.59  2.37               20.0        120           1.65   \n",
              "3     14.13        4.10  2.74               24.5         96           2.05   \n",
              "\n",
              "    Flavonoids  Nonflavonoid Phenols  Proanthocyanin  Color Intensity   Hue  \\\n",
              "1         3.06                  0.28            2.29             5.64  1.04   \n",
              "1         2.76                  0.26            1.28             4.38  1.05   \n",
              "1         3.24                  0.30            2.81             5.68  1.03   \n",
              "1         3.49                  0.24            2.18             7.80  0.86   \n",
              "1         2.69                  0.39            1.82             4.32  1.04   \n",
              "..         ...                   ...             ...              ...   ...   \n",
              "3         0.61                  0.52            1.06             7.70  0.64   \n",
              "3         0.75                  0.43            1.41             7.30  0.70   \n",
              "3         0.69                  0.43            1.35            10.20  0.59   \n",
              "3         0.68                  0.53            1.46             9.30  0.60   \n",
              "3         0.76                  0.56            1.35             9.20  0.61   \n",
              "\n",
              "    OD280/OD315 of diluted wines  Proline  \n",
              "1                           3.92     1065  \n",
              "1                           3.40     1050  \n",
              "1                           3.17     1185  \n",
              "1                           3.45     1480  \n",
              "1                           2.93      735  \n",
              "..                           ...      ...  \n",
              "3                           1.74      740  \n",
              "3                           1.56      750  \n",
              "3                           1.56      835  \n",
              "3                           1.62      840  \n",
              "3                           1.60      560  \n",
              "\n",
              "[178 rows x 13 columns]"
            ],
            "text/html": [
              "\n",
              "  <div id=\"df-5083439f-2c88-4327-be5e-94101142ff75\">\n",
              "    <div class=\"colab-df-container\">\n",
              "      <div>\n",
              "<style scoped>\n",
              "    .dataframe tbody tr th:only-of-type {\n",
              "        vertical-align: middle;\n",
              "    }\n",
              "\n",
              "    .dataframe tbody tr th {\n",
              "        vertical-align: top;\n",
              "    }\n",
              "\n",
              "    .dataframe thead th {\n",
              "        text-align: right;\n",
              "    }\n",
              "</style>\n",
              "<table border=\"1\" class=\"dataframe\">\n",
              "  <thead>\n",
              "    <tr style=\"text-align: right;\">\n",
              "      <th></th>\n",
              "      <th>Alcohol</th>\n",
              "      <th>Malic Acid</th>\n",
              "      <th>Ash</th>\n",
              "      <th>Alcalinity of Ash</th>\n",
              "      <th>Magnesium</th>\n",
              "      <th>Total Phenols</th>\n",
              "      <th>Flavonoids</th>\n",
              "      <th>Nonflavonoid Phenols</th>\n",
              "      <th>Proanthocyanin</th>\n",
              "      <th>Color Intensity</th>\n",
              "      <th>Hue</th>\n",
              "      <th>OD280/OD315 of diluted wines</th>\n",
              "      <th>Proline</th>\n",
              "    </tr>\n",
              "  </thead>\n",
              "  <tbody>\n",
              "    <tr>\n",
              "      <th>1</th>\n",
              "      <td>14.23</td>\n",
              "      <td>1.71</td>\n",
              "      <td>2.43</td>\n",
              "      <td>15.6</td>\n",
              "      <td>127</td>\n",
              "      <td>2.80</td>\n",
              "      <td>3.06</td>\n",
              "      <td>0.28</td>\n",
              "      <td>2.29</td>\n",
              "      <td>5.64</td>\n",
              "      <td>1.04</td>\n",
              "      <td>3.92</td>\n",
              "      <td>1065</td>\n",
              "    </tr>\n",
              "    <tr>\n",
              "      <th>1</th>\n",
              "      <td>13.20</td>\n",
              "      <td>1.78</td>\n",
              "      <td>2.14</td>\n",
              "      <td>11.2</td>\n",
              "      <td>100</td>\n",
              "      <td>2.65</td>\n",
              "      <td>2.76</td>\n",
              "      <td>0.26</td>\n",
              "      <td>1.28</td>\n",
              "      <td>4.38</td>\n",
              "      <td>1.05</td>\n",
              "      <td>3.40</td>\n",
              "      <td>1050</td>\n",
              "    </tr>\n",
              "    <tr>\n",
              "      <th>1</th>\n",
              "      <td>13.16</td>\n",
              "      <td>2.36</td>\n",
              "      <td>2.67</td>\n",
              "      <td>18.6</td>\n",
              "      <td>101</td>\n",
              "      <td>2.80</td>\n",
              "      <td>3.24</td>\n",
              "      <td>0.30</td>\n",
              "      <td>2.81</td>\n",
              "      <td>5.68</td>\n",
              "      <td>1.03</td>\n",
              "      <td>3.17</td>\n",
              "      <td>1185</td>\n",
              "    </tr>\n",
              "    <tr>\n",
              "      <th>1</th>\n",
              "      <td>14.37</td>\n",
              "      <td>1.95</td>\n",
              "      <td>2.50</td>\n",
              "      <td>16.8</td>\n",
              "      <td>113</td>\n",
              "      <td>3.85</td>\n",
              "      <td>3.49</td>\n",
              "      <td>0.24</td>\n",
              "      <td>2.18</td>\n",
              "      <td>7.80</td>\n",
              "      <td>0.86</td>\n",
              "      <td>3.45</td>\n",
              "      <td>1480</td>\n",
              "    </tr>\n",
              "    <tr>\n",
              "      <th>1</th>\n",
              "      <td>13.24</td>\n",
              "      <td>2.59</td>\n",
              "      <td>2.87</td>\n",
              "      <td>21.0</td>\n",
              "      <td>118</td>\n",
              "      <td>2.80</td>\n",
              "      <td>2.69</td>\n",
              "      <td>0.39</td>\n",
              "      <td>1.82</td>\n",
              "      <td>4.32</td>\n",
              "      <td>1.04</td>\n",
              "      <td>2.93</td>\n",
              "      <td>735</td>\n",
              "    </tr>\n",
              "    <tr>\n",
              "      <th>...</th>\n",
              "      <td>...</td>\n",
              "      <td>...</td>\n",
              "      <td>...</td>\n",
              "      <td>...</td>\n",
              "      <td>...</td>\n",
              "      <td>...</td>\n",
              "      <td>...</td>\n",
              "      <td>...</td>\n",
              "      <td>...</td>\n",
              "      <td>...</td>\n",
              "      <td>...</td>\n",
              "      <td>...</td>\n",
              "      <td>...</td>\n",
              "    </tr>\n",
              "    <tr>\n",
              "      <th>3</th>\n",
              "      <td>13.71</td>\n",
              "      <td>5.65</td>\n",
              "      <td>2.45</td>\n",
              "      <td>20.5</td>\n",
              "      <td>95</td>\n",
              "      <td>1.68</td>\n",
              "      <td>0.61</td>\n",
              "      <td>0.52</td>\n",
              "      <td>1.06</td>\n",
              "      <td>7.70</td>\n",
              "      <td>0.64</td>\n",
              "      <td>1.74</td>\n",
              "      <td>740</td>\n",
              "    </tr>\n",
              "    <tr>\n",
              "      <th>3</th>\n",
              "      <td>13.40</td>\n",
              "      <td>3.91</td>\n",
              "      <td>2.48</td>\n",
              "      <td>23.0</td>\n",
              "      <td>102</td>\n",
              "      <td>1.80</td>\n",
              "      <td>0.75</td>\n",
              "      <td>0.43</td>\n",
              "      <td>1.41</td>\n",
              "      <td>7.30</td>\n",
              "      <td>0.70</td>\n",
              "      <td>1.56</td>\n",
              "      <td>750</td>\n",
              "    </tr>\n",
              "    <tr>\n",
              "      <th>3</th>\n",
              "      <td>13.27</td>\n",
              "      <td>4.28</td>\n",
              "      <td>2.26</td>\n",
              "      <td>20.0</td>\n",
              "      <td>120</td>\n",
              "      <td>1.59</td>\n",
              "      <td>0.69</td>\n",
              "      <td>0.43</td>\n",
              "      <td>1.35</td>\n",
              "      <td>10.20</td>\n",
              "      <td>0.59</td>\n",
              "      <td>1.56</td>\n",
              "      <td>835</td>\n",
              "    </tr>\n",
              "    <tr>\n",
              "      <th>3</th>\n",
              "      <td>13.17</td>\n",
              "      <td>2.59</td>\n",
              "      <td>2.37</td>\n",
              "      <td>20.0</td>\n",
              "      <td>120</td>\n",
              "      <td>1.65</td>\n",
              "      <td>0.68</td>\n",
              "      <td>0.53</td>\n",
              "      <td>1.46</td>\n",
              "      <td>9.30</td>\n",
              "      <td>0.60</td>\n",
              "      <td>1.62</td>\n",
              "      <td>840</td>\n",
              "    </tr>\n",
              "    <tr>\n",
              "      <th>3</th>\n",
              "      <td>14.13</td>\n",
              "      <td>4.10</td>\n",
              "      <td>2.74</td>\n",
              "      <td>24.5</td>\n",
              "      <td>96</td>\n",
              "      <td>2.05</td>\n",
              "      <td>0.76</td>\n",
              "      <td>0.56</td>\n",
              "      <td>1.35</td>\n",
              "      <td>9.20</td>\n",
              "      <td>0.61</td>\n",
              "      <td>1.60</td>\n",
              "      <td>560</td>\n",
              "    </tr>\n",
              "  </tbody>\n",
              "</table>\n",
              "<p>178 rows × 13 columns</p>\n",
              "</div>\n",
              "      <button class=\"colab-df-convert\" onclick=\"convertToInteractive('df-5083439f-2c88-4327-be5e-94101142ff75')\"\n",
              "              title=\"Convert this dataframe to an interactive table.\"\n",
              "              style=\"display:none;\">\n",
              "        \n",
              "  <svg xmlns=\"http://www.w3.org/2000/svg\" height=\"24px\"viewBox=\"0 0 24 24\"\n",
              "       width=\"24px\">\n",
              "    <path d=\"M0 0h24v24H0V0z\" fill=\"none\"/>\n",
              "    <path d=\"M18.56 5.44l.94 2.06.94-2.06 2.06-.94-2.06-.94-.94-2.06-.94 2.06-2.06.94zm-11 1L8.5 8.5l.94-2.06 2.06-.94-2.06-.94L8.5 2.5l-.94 2.06-2.06.94zm10 10l.94 2.06.94-2.06 2.06-.94-2.06-.94-.94-2.06-.94 2.06-2.06.94z\"/><path d=\"M17.41 7.96l-1.37-1.37c-.4-.4-.92-.59-1.43-.59-.52 0-1.04.2-1.43.59L10.3 9.45l-7.72 7.72c-.78.78-.78 2.05 0 2.83L4 21.41c.39.39.9.59 1.41.59.51 0 1.02-.2 1.41-.59l7.78-7.78 2.81-2.81c.8-.78.8-2.07 0-2.86zM5.41 20L4 18.59l7.72-7.72 1.47 1.35L5.41 20z\"/>\n",
              "  </svg>\n",
              "      </button>\n",
              "      \n",
              "  <style>\n",
              "    .colab-df-container {\n",
              "      display:flex;\n",
              "      flex-wrap:wrap;\n",
              "      gap: 12px;\n",
              "    }\n",
              "\n",
              "    .colab-df-convert {\n",
              "      background-color: #E8F0FE;\n",
              "      border: none;\n",
              "      border-radius: 50%;\n",
              "      cursor: pointer;\n",
              "      display: none;\n",
              "      fill: #1967D2;\n",
              "      height: 32px;\n",
              "      padding: 0 0 0 0;\n",
              "      width: 32px;\n",
              "    }\n",
              "\n",
              "    .colab-df-convert:hover {\n",
              "      background-color: #E2EBFA;\n",
              "      box-shadow: 0px 1px 2px rgba(60, 64, 67, 0.3), 0px 1px 3px 1px rgba(60, 64, 67, 0.15);\n",
              "      fill: #174EA6;\n",
              "    }\n",
              "\n",
              "    [theme=dark] .colab-df-convert {\n",
              "      background-color: #3B4455;\n",
              "      fill: #D2E3FC;\n",
              "    }\n",
              "\n",
              "    [theme=dark] .colab-df-convert:hover {\n",
              "      background-color: #434B5C;\n",
              "      box-shadow: 0px 1px 3px 1px rgba(0, 0, 0, 0.15);\n",
              "      filter: drop-shadow(0px 1px 2px rgba(0, 0, 0, 0.3));\n",
              "      fill: #FFFFFF;\n",
              "    }\n",
              "  </style>\n",
              "\n",
              "      <script>\n",
              "        const buttonEl =\n",
              "          document.querySelector('#df-5083439f-2c88-4327-be5e-94101142ff75 button.colab-df-convert');\n",
              "        buttonEl.style.display =\n",
              "          google.colab.kernel.accessAllowed ? 'block' : 'none';\n",
              "\n",
              "        async function convertToInteractive(key) {\n",
              "          const element = document.querySelector('#df-5083439f-2c88-4327-be5e-94101142ff75');\n",
              "          const dataTable =\n",
              "            await google.colab.kernel.invokeFunction('convertToInteractive',\n",
              "                                                     [key], {});\n",
              "          if (!dataTable) return;\n",
              "\n",
              "          const docLinkHtml = 'Like what you see? Visit the ' +\n",
              "            '<a target=\"_blank\" href=https://colab.research.google.com/notebooks/data_table.ipynb>data table notebook</a>'\n",
              "            + ' to learn more about interactive tables.';\n",
              "          element.innerHTML = '';\n",
              "          dataTable['output_type'] = 'display_data';\n",
              "          await google.colab.output.renderOutput(dataTable, element);\n",
              "          const docLink = document.createElement('div');\n",
              "          docLink.innerHTML = docLinkHtml;\n",
              "          element.appendChild(docLink);\n",
              "        }\n",
              "      </script>\n",
              "    </div>\n",
              "  </div>\n",
              "  "
            ]
          },
          "metadata": {},
          "execution_count": 3
        }
      ]
    },
    {
      "cell_type": "code",
      "source": [
        "dataset = dataset.replace(np.nan, 0, regex=True)"
      ],
      "metadata": {
        "id": "dGEdqE9ANPEl"
      },
      "execution_count": 4,
      "outputs": []
    },
    {
      "cell_type": "code",
      "source": [
        "X = dataset.iloc[:, 9].values\n",
        "y = dataset.iloc[:, 0].values"
      ],
      "metadata": {
        "id": "wyScFrB2KHVJ"
      },
      "execution_count": 5,
      "outputs": []
    },
    {
      "cell_type": "code",
      "source": [
        "X = X.reshape(-1, 1)"
      ],
      "metadata": {
        "id": "c513fF_zQchQ"
      },
      "execution_count": 6,
      "outputs": []
    },
    {
      "cell_type": "code",
      "source": [
        "X"
      ],
      "metadata": {
        "colab": {
          "base_uri": "https://localhost:8080/"
        },
        "id": "HmdVyNaoKJp8",
        "outputId": "01b8da00-c39b-4f29-c760-a486c717fdf6"
      },
      "execution_count": 7,
      "outputs": [
        {
          "output_type": "execute_result",
          "data": {
            "text/plain": [
              "array([[ 5.64    ],\n",
              "       [ 4.38    ],\n",
              "       [ 5.68    ],\n",
              "       [ 7.8     ],\n",
              "       [ 4.32    ],\n",
              "       [ 6.75    ],\n",
              "       [ 5.25    ],\n",
              "       [ 5.05    ],\n",
              "       [ 5.2     ],\n",
              "       [ 7.22    ],\n",
              "       [ 5.75    ],\n",
              "       [ 5.      ],\n",
              "       [ 5.6     ],\n",
              "       [ 5.4     ],\n",
              "       [ 7.5     ],\n",
              "       [ 7.3     ],\n",
              "       [ 6.2     ],\n",
              "       [ 6.6     ],\n",
              "       [ 8.7     ],\n",
              "       [ 5.1     ],\n",
              "       [ 5.65    ],\n",
              "       [ 4.5     ],\n",
              "       [ 3.8     ],\n",
              "       [ 3.93    ],\n",
              "       [ 3.52    ],\n",
              "       [ 3.58    ],\n",
              "       [ 4.8     ],\n",
              "       [ 3.95    ],\n",
              "       [ 4.5     ],\n",
              "       [ 4.7     ],\n",
              "       [ 5.7     ],\n",
              "       [ 6.9     ],\n",
              "       [ 3.84    ],\n",
              "       [ 5.4     ],\n",
              "       [ 4.2     ],\n",
              "       [ 5.1     ],\n",
              "       [ 4.6     ],\n",
              "       [ 4.25    ],\n",
              "       [ 3.7     ],\n",
              "       [ 5.1     ],\n",
              "       [ 6.13    ],\n",
              "       [ 4.28    ],\n",
              "       [ 5.43    ],\n",
              "       [ 4.36    ],\n",
              "       [ 5.04    ],\n",
              "       [ 5.24    ],\n",
              "       [ 4.9     ],\n",
              "       [ 6.1     ],\n",
              "       [ 6.2     ],\n",
              "       [ 8.9     ],\n",
              "       [ 7.2     ],\n",
              "       [ 5.6     ],\n",
              "       [ 7.05    ],\n",
              "       [ 6.3     ],\n",
              "       [ 5.85    ],\n",
              "       [ 6.25    ],\n",
              "       [ 6.38    ],\n",
              "       [ 6.      ],\n",
              "       [ 6.8     ],\n",
              "       [ 1.95    ],\n",
              "       [ 3.27    ],\n",
              "       [ 5.75    ],\n",
              "       [ 3.8     ],\n",
              "       [ 4.45    ],\n",
              "       [ 2.95    ],\n",
              "       [ 4.6     ],\n",
              "       [ 5.3     ],\n",
              "       [ 4.68    ],\n",
              "       [ 3.17    ],\n",
              "       [ 2.85    ],\n",
              "       [ 3.05    ],\n",
              "       [ 3.38    ],\n",
              "       [ 3.74    ],\n",
              "       [ 3.35    ],\n",
              "       [ 3.21    ],\n",
              "       [ 3.8     ],\n",
              "       [ 4.6     ],\n",
              "       [ 2.65    ],\n",
              "       [ 3.4     ],\n",
              "       [ 2.57    ],\n",
              "       [ 2.5     ],\n",
              "       [ 3.9     ],\n",
              "       [ 2.2     ],\n",
              "       [ 4.8     ],\n",
              "       [ 3.05    ],\n",
              "       [ 2.62    ],\n",
              "       [ 2.45    ],\n",
              "       [ 2.6     ],\n",
              "       [ 2.8     ],\n",
              "       [ 1.74    ],\n",
              "       [ 2.4     ],\n",
              "       [ 3.6     ],\n",
              "       [ 3.05    ],\n",
              "       [ 2.15    ],\n",
              "       [ 3.25    ],\n",
              "       [ 2.6     ],\n",
              "       [ 2.5     ],\n",
              "       [ 2.9     ],\n",
              "       [ 4.5     ],\n",
              "       [ 2.3     ],\n",
              "       [ 3.3     ],\n",
              "       [ 2.45    ],\n",
              "       [ 2.8     ],\n",
              "       [ 2.06    ],\n",
              "       [ 2.94    ],\n",
              "       [ 2.7     ],\n",
              "       [ 3.4     ],\n",
              "       [ 3.3     ],\n",
              "       [ 2.7     ],\n",
              "       [ 2.65    ],\n",
              "       [ 2.9     ],\n",
              "       [ 2.      ],\n",
              "       [ 3.8     ],\n",
              "       [ 3.08    ],\n",
              "       [ 2.9     ],\n",
              "       [ 1.9     ],\n",
              "       [ 1.95    ],\n",
              "       [ 2.06    ],\n",
              "       [ 3.4     ],\n",
              "       [ 1.28    ],\n",
              "       [ 3.25    ],\n",
              "       [ 6.      ],\n",
              "       [ 2.08    ],\n",
              "       [ 2.6     ],\n",
              "       [ 2.8     ],\n",
              "       [ 2.76    ],\n",
              "       [ 3.94    ],\n",
              "       [ 3.      ],\n",
              "       [ 2.12    ],\n",
              "       [ 2.6     ],\n",
              "       [ 4.1     ],\n",
              "       [ 5.4     ],\n",
              "       [ 5.7     ],\n",
              "       [ 5.      ],\n",
              "       [ 5.45    ],\n",
              "       [ 7.1     ],\n",
              "       [ 3.85    ],\n",
              "       [ 5.      ],\n",
              "       [ 5.7     ],\n",
              "       [ 4.92    ],\n",
              "       [ 4.6     ],\n",
              "       [ 5.6     ],\n",
              "       [ 4.35    ],\n",
              "       [ 4.4     ],\n",
              "       [ 8.21    ],\n",
              "       [ 4.      ],\n",
              "       [ 4.9     ],\n",
              "       [ 7.65    ],\n",
              "       [ 8.42    ],\n",
              "       [ 9.4     ],\n",
              "       [ 8.6     ],\n",
              "       [10.8     ],\n",
              "       [ 7.1     ],\n",
              "       [10.52    ],\n",
              "       [ 7.6     ],\n",
              "       [ 7.9     ],\n",
              "       [ 9.01    ],\n",
              "       [ 7.5     ],\n",
              "       [13.      ],\n",
              "       [11.75    ],\n",
              "       [ 7.65    ],\n",
              "       [ 5.88    ],\n",
              "       [ 5.58    ],\n",
              "       [ 5.28    ],\n",
              "       [ 9.58    ],\n",
              "       [ 6.62    ],\n",
              "       [10.68    ],\n",
              "       [10.26    ],\n",
              "       [ 8.66    ],\n",
              "       [ 8.5     ],\n",
              "       [ 5.5     ],\n",
              "       [ 9.899999],\n",
              "       [ 9.7     ],\n",
              "       [ 7.7     ],\n",
              "       [ 7.3     ],\n",
              "       [10.2     ],\n",
              "       [ 9.3     ],\n",
              "       [ 9.2     ]])"
            ]
          },
          "metadata": {},
          "execution_count": 7
        }
      ]
    },
    {
      "cell_type": "code",
      "source": [
        "from sklearn.model_selection import train_test_split\n",
        "X_train, X_test, y_train, y_test = train_test_split(X, y, test_size = 1/3, random_state = 0)"
      ],
      "metadata": {
        "id": "XIDhEteeIJ-P"
      },
      "execution_count": 8,
      "outputs": []
    },
    {
      "cell_type": "code",
      "source": [
        "y_train"
      ],
      "metadata": {
        "colab": {
          "base_uri": "https://localhost:8080/"
        },
        "id": "8wD-ypTwINvn",
        "outputId": "8e2b284e-6355-4602-fe89-19710380e78e"
      },
      "execution_count": 9,
      "outputs": [
        {
          "output_type": "execute_result",
          "data": {
            "text/plain": [
              "array([13.84, 13.3 , 13.05, 12.51, 12.29, 12.77, 12.96, 13.67, 13.16,\n",
              "       12.37, 12.47, 11.81, 13.24, 14.1 , 11.61, 12.99, 12.77, 13.48,\n",
              "       11.46, 12.07, 11.82, 13.45, 12.2 , 13.05, 13.17, 12.08, 12.17,\n",
              "       12.42, 11.87, 12.21, 13.94, 14.1 , 12.67, 14.75, 12.25, 12.85,\n",
              "       13.73, 14.06, 13.63, 12.33, 13.82, 12.08, 13.03, 14.37, 13.17,\n",
              "       12.72, 14.39, 13.34, 11.66, 11.84, 12.86, 13.75, 12.53, 13.11,\n",
              "       14.38, 14.23, 12.  , 13.23, 14.38, 14.12, 12.  , 12.34, 13.48,\n",
              "       13.29, 13.41, 13.71, 12.37, 13.2 , 11.45, 13.62, 13.88, 12.42,\n",
              "       12.81, 12.58, 13.83, 13.07, 12.7 , 13.77, 12.84, 12.37, 13.51,\n",
              "       13.87, 12.08, 13.58, 13.08, 11.79, 12.45, 13.68, 13.52, 13.5 ,\n",
              "       12.87, 14.02, 12.29, 12.08, 12.7 , 11.03, 13.32, 14.13, 13.49,\n",
              "       11.84, 13.05, 12.72, 12.82, 13.4 , 14.22, 13.72, 12.93, 11.64,\n",
              "       12.29, 11.65, 13.28, 12.93, 13.86, 11.82, 12.37, 12.42, 13.9 ,\n",
              "       14.16])"
            ]
          },
          "metadata": {},
          "execution_count": 9
        }
      ]
    },
    {
      "cell_type": "code",
      "source": [
        "from sklearn.linear_model import LinearRegression\n",
        "regressor = LinearRegression()\n",
        "regressor.fit(X_train, y_train)"
      ],
      "metadata": {
        "colab": {
          "base_uri": "https://localhost:8080/",
          "height": 74
        },
        "id": "OVMl3iqTIRP_",
        "outputId": "c323395e-2f50-488c-9e0d-81014f5ae161"
      },
      "execution_count": 10,
      "outputs": [
        {
          "output_type": "execute_result",
          "data": {
            "text/plain": [
              "LinearRegression()"
            ],
            "text/html": [
              "<style>#sk-container-id-1 {color: black;background-color: white;}#sk-container-id-1 pre{padding: 0;}#sk-container-id-1 div.sk-toggleable {background-color: white;}#sk-container-id-1 label.sk-toggleable__label {cursor: pointer;display: block;width: 100%;margin-bottom: 0;padding: 0.3em;box-sizing: border-box;text-align: center;}#sk-container-id-1 label.sk-toggleable__label-arrow:before {content: \"▸\";float: left;margin-right: 0.25em;color: #696969;}#sk-container-id-1 label.sk-toggleable__label-arrow:hover:before {color: black;}#sk-container-id-1 div.sk-estimator:hover label.sk-toggleable__label-arrow:before {color: black;}#sk-container-id-1 div.sk-toggleable__content {max-height: 0;max-width: 0;overflow: hidden;text-align: left;background-color: #f0f8ff;}#sk-container-id-1 div.sk-toggleable__content pre {margin: 0.2em;color: black;border-radius: 0.25em;background-color: #f0f8ff;}#sk-container-id-1 input.sk-toggleable__control:checked~div.sk-toggleable__content {max-height: 200px;max-width: 100%;overflow: auto;}#sk-container-id-1 input.sk-toggleable__control:checked~label.sk-toggleable__label-arrow:before {content: \"▾\";}#sk-container-id-1 div.sk-estimator input.sk-toggleable__control:checked~label.sk-toggleable__label {background-color: #d4ebff;}#sk-container-id-1 div.sk-label input.sk-toggleable__control:checked~label.sk-toggleable__label {background-color: #d4ebff;}#sk-container-id-1 input.sk-hidden--visually {border: 0;clip: rect(1px 1px 1px 1px);clip: rect(1px, 1px, 1px, 1px);height: 1px;margin: -1px;overflow: hidden;padding: 0;position: absolute;width: 1px;}#sk-container-id-1 div.sk-estimator {font-family: monospace;background-color: #f0f8ff;border: 1px dotted black;border-radius: 0.25em;box-sizing: border-box;margin-bottom: 0.5em;}#sk-container-id-1 div.sk-estimator:hover {background-color: #d4ebff;}#sk-container-id-1 div.sk-parallel-item::after {content: \"\";width: 100%;border-bottom: 1px solid gray;flex-grow: 1;}#sk-container-id-1 div.sk-label:hover label.sk-toggleable__label {background-color: #d4ebff;}#sk-container-id-1 div.sk-serial::before {content: \"\";position: absolute;border-left: 1px solid gray;box-sizing: border-box;top: 0;bottom: 0;left: 50%;z-index: 0;}#sk-container-id-1 div.sk-serial {display: flex;flex-direction: column;align-items: center;background-color: white;padding-right: 0.2em;padding-left: 0.2em;position: relative;}#sk-container-id-1 div.sk-item {position: relative;z-index: 1;}#sk-container-id-1 div.sk-parallel {display: flex;align-items: stretch;justify-content: center;background-color: white;position: relative;}#sk-container-id-1 div.sk-item::before, #sk-container-id-1 div.sk-parallel-item::before {content: \"\";position: absolute;border-left: 1px solid gray;box-sizing: border-box;top: 0;bottom: 0;left: 50%;z-index: -1;}#sk-container-id-1 div.sk-parallel-item {display: flex;flex-direction: column;z-index: 1;position: relative;background-color: white;}#sk-container-id-1 div.sk-parallel-item:first-child::after {align-self: flex-end;width: 50%;}#sk-container-id-1 div.sk-parallel-item:last-child::after {align-self: flex-start;width: 50%;}#sk-container-id-1 div.sk-parallel-item:only-child::after {width: 0;}#sk-container-id-1 div.sk-dashed-wrapped {border: 1px dashed gray;margin: 0 0.4em 0.5em 0.4em;box-sizing: border-box;padding-bottom: 0.4em;background-color: white;}#sk-container-id-1 div.sk-label label {font-family: monospace;font-weight: bold;display: inline-block;line-height: 1.2em;}#sk-container-id-1 div.sk-label-container {text-align: center;}#sk-container-id-1 div.sk-container {/* jupyter's `normalize.less` sets `[hidden] { display: none; }` but bootstrap.min.css set `[hidden] { display: none !important; }` so we also need the `!important` here to be able to override the default hidden behavior on the sphinx rendered scikit-learn.org. See: https://github.com/scikit-learn/scikit-learn/issues/21755 */display: inline-block !important;position: relative;}#sk-container-id-1 div.sk-text-repr-fallback {display: none;}</style><div id=\"sk-container-id-1\" class=\"sk-top-container\"><div class=\"sk-text-repr-fallback\"><pre>LinearRegression()</pre><b>In a Jupyter environment, please rerun this cell to show the HTML representation or trust the notebook. <br />On GitHub, the HTML representation is unable to render, please try loading this page with nbviewer.org.</b></div><div class=\"sk-container\" hidden><div class=\"sk-item\"><div class=\"sk-estimator sk-toggleable\"><input class=\"sk-toggleable__control sk-hidden--visually\" id=\"sk-estimator-id-1\" type=\"checkbox\" checked><label for=\"sk-estimator-id-1\" class=\"sk-toggleable__label sk-toggleable__label-arrow\">LinearRegression</label><div class=\"sk-toggleable__content\"><pre>LinearRegression()</pre></div></div></div></div></div>"
            ]
          },
          "metadata": {},
          "execution_count": 10
        }
      ]
    },
    {
      "cell_type": "code",
      "source": [
        "y_pred = regressor.predict(X_test)"
      ],
      "metadata": {
        "id": "NvIR1HCKIScE"
      },
      "execution_count": 11,
      "outputs": []
    },
    {
      "cell_type": "code",
      "source": [
        "y_pred"
      ],
      "metadata": {
        "colab": {
          "base_uri": "https://localhost:8080/"
        },
        "id": "9lrn3Zj4IUaw",
        "outputId": "5d7a1423-e90a-480b-8b7c-1fe507519143"
      },
      "execution_count": 12,
      "outputs": [
        {
          "output_type": "execute_result",
          "data": {
            "text/plain": [
              "array([13.14494121, 14.14875892, 12.86103316, 13.22605779, 12.48586897,\n",
              "       13.17535992, 12.98270804, 13.50996583, 12.64810213, 12.44531068,\n",
              "       13.09424334, 12.95228932, 13.32745352, 12.87117274, 13.7147852 ,\n",
              "       12.46558982, 13.05368505, 13.72289686, 13.12466206, 13.09424334,\n",
              "       13.0334059 , 12.82047487, 12.83467028, 12.55481806, 12.62173924,\n",
              "       12.36419409, 12.75760952, 12.45545025, 12.72921872, 13.90135334,\n",
              "       12.93201017, 13.25242068, 12.48586897, 13.02123842, 13.01312676,\n",
              "       12.98068012, 13.15102495, 12.57712512, 12.61768342, 13.43898882,\n",
              "       12.67243711, 13.11452249, 12.39461281, 12.45545025, 12.58320887,\n",
              "       12.99284761, 13.39843053, 12.60957176, 13.62352905, 13.21591822,\n",
              "       13.05368505, 13.11452249, 13.20172281, 14.59490013, 12.72921872,\n",
              "       12.50614811, 14.02708405, 12.76977701, 12.64404631, 13.09018751])"
            ]
          },
          "metadata": {},
          "execution_count": 12
        }
      ]
    },
    {
      "cell_type": "code",
      "source": [
        "plt.scatter(X_train, y_train, color = 'red')\n",
        "plt.plot(X_train, regressor.predict(X_train), color = 'blue')\n",
        "plt.title('Color Intensity vs Alcohol (Training set)')\n",
        "plt.xlabel('Color Intensity')\n",
        "plt.ylabel('Alcohol')\n",
        "plt.show()"
      ],
      "metadata": {
        "colab": {
          "base_uri": "https://localhost:8080/",
          "height": 472
        },
        "id": "wankUXymIYVk",
        "outputId": "a79ec270-1974-4c6d-9073-72e6a22acfcb"
      },
      "execution_count": 13,
      "outputs": [
        {
          "output_type": "display_data",
          "data": {
            "text/plain": [
              "<Figure size 640x480 with 1 Axes>"
            ],
            "image/png": "[encoded data removed]"
          },
          "metadata": {}
        }
      ]
    },
    {
      "cell_type": "code",
      "source": [
        "plt.scatter(X_test, y_test, color = 'red')\n",
        "plt.plot(X_train, regressor.predict(X_train), color = 'blue')\n",
        "plt.title('Color Intensity vs Alcohol (Test set)')\n",
        "plt.xlabel('Color Intensity')\n",
        "plt.ylabel('Alcohol')\n",
        "plt.show()"
      ],
      "metadata": {
        "colab": {
          "base_uri": "https://localhost:8080/",
          "height": 472
        },
        "id": "mTbzqTAnOqYk",
        "outputId": "f5020fdf-8e95-40ca-9c60-b747e7eeae54"
      },
      "execution_count": 14,
      "outputs": [
        {
          "output_type": "display_data",
          "data": {
            "text/plain": [
              "<Figure size 640x480 with 1 Axes>"
            ],
            "image/png": "[encoded data removed]"
          },
          "metadata": {}
        }
      ]
    }
  ]
}